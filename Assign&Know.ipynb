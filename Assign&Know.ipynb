{
 "cells": [
  {
   "cell_type": "markdown",
   "id": "fd8cdbc4",
   "metadata": {},
   "source": [
    "# Knwolege Test"
   ]
  },
  {
   "cell_type": "code",
   "execution_count": null,
   "id": "ada19872",
   "metadata": {},
   "outputs": [],
   "source": [
    "Q1. Write a function to print the fibonaaci series\n",
    "Q2. What are Armstrong numbers? Write a function if a number is Armstrong number of not\n",
    "Q3. Difference between list and tuple support your answer with coding example\n",
    "Q4. What is python doc String"
   ]
  },
  {
   "cell_type": "code",
   "execution_count": 6,
   "id": "13cdf939",
   "metadata": {},
   "outputs": [
    {
     "name": "stdout",
     "output_type": "stream",
     "text": [
      "4\n"
     ]
    },
    {
     "data": {
      "text/plain": [
       "[4, 6]"
      ]
     },
     "execution_count": 6,
     "metadata": {},
     "output_type": "execute_result"
    }
   ],
   "source": [
    "#Write a function to print the fibonaaci series\n",
    "\n",
    "def fibon(a,b):\n",
    "    arr = [a,b]\n",
    "    while True:\n",
    "        print(arr[-1])\n",
    "        temp = sum(arr)\n",
    "        arr.append(temp)\n",
    "        del arr[0]\n",
    "\n",
    "        return arr\n",
    "\n",
    "fibon(2,4)\n",
    "    \n",
    "        "
   ]
  },
  {
   "cell_type": "code",
   "execution_count": 22,
   "id": "fc7fff15",
   "metadata": {},
   "outputs": [
    {
     "name": "stdout",
     "output_type": "stream",
     "text": [
      "Enter the number:153\n",
      "153 Is an Armstrong Number\n"
     ]
    }
   ],
   "source": [
    "#What are Armstrong numbers? Write a function if a number is Armstrong number of not\n",
    "\n",
    "\"\"\"An Armstrong number, also known as narcissistic number,\n",
    "is a number that is equal to the sum of the cubes of its own digits. \n",
    "For example, 370 is an Armstrong number since 370 = 3*3*3 + 7*7*7 + 0*0*0 .\"\"\"\n",
    "\n",
    "a = int(input('Enter the number:'))\n",
    "sum = 0\n",
    "temp = a\n",
    "  \n",
    "while temp>0:\n",
    "    \n",
    "    temp1 = temp%10\n",
    "    sum += temp1**3\n",
    "    temp //= 10\n",
    "        \n",
    "    \n",
    "if sum == a:\n",
    "    print(a, 'Is an Armstrong Number')\n",
    "else:\n",
    "    print(a, 'Is not an Armstron Number')\n",
    "        "
   ]
  },
  {
   "cell_type": "code",
   "execution_count": null,
   "id": "8660c21e",
   "metadata": {},
   "outputs": [],
   "source": [
    "#Difference between list and tuple support your answer with coding example\n",
    "\n",
    "List --> 1.A list is mutable in nature     Tuple --> 1.A tuple is immutable in nature\n",
    "         2.Slower Iteration Speed                    2.Faster Iteration Speed\n",
    "         3.Visually distingushed by []               3.Tuples elements are within ()\n",
    "         "
   ]
  },
  {
   "cell_type": "code",
   "execution_count": 25,
   "id": "a55bcc23",
   "metadata": {},
   "outputs": [
    {
     "name": "stdout",
     "output_type": "stream",
     "text": [
      "[1, 2, 3, 4, 5, 'Kante'] <class 'list'>\n"
     ]
    }
   ],
   "source": [
    "a = [1,2,3,4,5, \"N'golo\"]\n",
    "a[-1] = \"Kante\"\n",
    "print(a, type(a))"
   ]
  },
  {
   "cell_type": "code",
   "execution_count": 27,
   "id": "381ff01c",
   "metadata": {},
   "outputs": [
    {
     "ename": "TypeError",
     "evalue": "'tuple' object does not support item assignment",
     "output_type": "error",
     "traceback": [
      "\u001b[1;31m---------------------------------------------------------------------------\u001b[0m",
      "\u001b[1;31mTypeError\u001b[0m                                 Traceback (most recent call last)",
      "\u001b[1;32m~\\AppData\\Local\\Temp/ipykernel_18000/1827700768.py\u001b[0m in \u001b[0;36m<module>\u001b[1;34m\u001b[0m\n\u001b[0;32m      1\u001b[0m \u001b[0mb\u001b[0m \u001b[1;33m=\u001b[0m \u001b[1;33m(\u001b[0m\u001b[1;36m1\u001b[0m\u001b[1;33m,\u001b[0m\u001b[1;36m2\u001b[0m\u001b[1;33m,\u001b[0m\u001b[1;36m3\u001b[0m\u001b[1;33m,\u001b[0m\u001b[1;36m4\u001b[0m\u001b[1;33m,\u001b[0m\u001b[1;36m5\u001b[0m\u001b[1;33m,\u001b[0m \u001b[1;34m\"N'golo\"\u001b[0m\u001b[1;33m)\u001b[0m\u001b[1;33m\u001b[0m\u001b[1;33m\u001b[0m\u001b[0m\n\u001b[1;32m----> 2\u001b[1;33m \u001b[0mb\u001b[0m\u001b[1;33m[\u001b[0m\u001b[1;33m-\u001b[0m\u001b[1;36m1\u001b[0m\u001b[1;33m]\u001b[0m \u001b[1;33m=\u001b[0m \u001b[1;34m\"Kante\"\u001b[0m\u001b[1;33m\u001b[0m\u001b[1;33m\u001b[0m\u001b[0m\n\u001b[0m\u001b[0;32m      3\u001b[0m \u001b[0mprint\u001b[0m\u001b[1;33m(\u001b[0m\u001b[0mtype\u001b[0m\u001b[1;33m(\u001b[0m\u001b[0mb\u001b[0m\u001b[1;33m)\u001b[0m\u001b[1;33m)\u001b[0m\u001b[1;33m\u001b[0m\u001b[1;33m\u001b[0m\u001b[0m\n\u001b[0;32m      4\u001b[0m \u001b[0mprint\u001b[0m\u001b[1;33m(\u001b[0m\u001b[0mb\u001b[0m\u001b[1;33m,\u001b[0m \u001b[0mtype\u001b[0m\u001b[1;33m(\u001b[0m\u001b[0mb\u001b[0m\u001b[1;33m)\u001b[0m\u001b[1;33m)\u001b[0m\u001b[1;33m\u001b[0m\u001b[1;33m\u001b[0m\u001b[0m\n",
      "\u001b[1;31mTypeError\u001b[0m: 'tuple' object does not support item assignment"
     ]
    }
   ],
   "source": [
    "b = (1,2,3,4,5, \"N'golo\")\n",
    "b[-1] = \"Kante\"\n",
    "print(type(b))\n",
    "print(b, type(b))"
   ]
  },
  {
   "cell_type": "code",
   "execution_count": null,
   "id": "bd876e37",
   "metadata": {},
   "outputs": [],
   "source": [
    "#What is python doc String\n",
    "\n",
    "\"\"\"Python documentation strings (or docstrings) provide a convenient way of associating documentation with Python modules,\n",
    "functions, classes, and methods. It’s specified in source code that is used, like a comment, \n",
    "to document a specific segment of code. Unlike conventional source code comments,\n",
    "the docstring should describe what the function does, not how\"\"\""
   ]
  },
  {
   "cell_type": "markdown",
   "id": "53eda46e",
   "metadata": {},
   "source": [
    "---------------------------------------------------------------------------------------------------------------------------"
   ]
  },
  {
   "cell_type": "markdown",
   "id": "7e96c1fa",
   "metadata": {},
   "source": [
    "# Research Test"
   ]
  },
  {
   "cell_type": "code",
   "execution_count": null,
   "id": "5645f651",
   "metadata": {},
   "outputs": [],
   "source": [
    "Q1. what is PEP 8\n",
    "Q2. difference between range and xrange\n",
    "Q3. What are global and local varibales support your answer with coding\n",
    "Q4. Difference between python 2 and python 3\n",
    "Q5. What are mirrored palindrome? Write a program to check if a string is mirrored palindrome or not?"
   ]
  },
  {
   "cell_type": "code",
   "execution_count": null,
   "id": "5a75442b",
   "metadata": {},
   "outputs": [],
   "source": [
    "#what is PEP 8\n",
    "\n",
    "PEP 8 is a document that provides various guidelines to write the readable in Python.\n",
    "PEP 8 describes how the developer can write beautiful code.\n",
    "It was officially written in 2001 by Guido van Rossum, Barry Warsaw, and Nick Coghlan.\n",
    "The main aim of PEP is to enhance the readability and consistency of code."
   ]
  },
  {
   "cell_type": "code",
   "execution_count": null,
   "id": "7ab896fc",
   "metadata": {},
   "outputs": [],
   "source": [
    "#difference between range and xrange\n",
    "\n",
    "The range() and xrange() are two functions that could be used to iterate a certain number of times in for loops in Python.\n",
    "In Python 3, there is no xrange, but the range function behaves like xrange in Python 2.\n",
    "If you want to write code that will run on both Python 2 and Python 3, you should use range().\n",
    "\n",
    "range() – This returns a range object (a type of iterable).\n",
    "\n",
    "xrange() – This function returns the generator object that can be used to display numbers only by looping.\n",
    "           The only particular range is displayed on demand and hence called “lazy evaluation“.\n",
    "\n",
    "Python 2.0-------------------------------------------------------------------------------\n",
    "\n",
    "    for x in xrange(1, 5):\n",
    " \n",
    "    print x\n",
    " \n",
    " Python 3.0--------------------------------------------------------------------------------------   \n",
    " \n",
    "    for x in range(1, 5):\n",
    " \n",
    "        print(x)"
   ]
  },
  {
   "cell_type": "code",
   "execution_count": null,
   "id": "e284204e",
   "metadata": {},
   "outputs": [],
   "source": [
    "#What are global and local varibales support your answer with coding\n",
    "\n",
    "# Local and Global variable\n",
    "\n",
    "- global variable is a var which you can use in entire code\n",
    "- local var is a var which you can use only in a particular function"
   ]
  },
  {
   "cell_type": "code",
   "execution_count": null,
   "id": "6d47f958",
   "metadata": {},
   "outputs": [],
   "source": [
    "a = 10\n",
    "def fah(T):\n",
    "    b = 0\n",
    "    return ((9/5)*T) + 32\n",
    "\n",
    "def cel(T):\n",
    "    return (5/9)*(T-32)\n",
    "            \n",
    "temp = [0, 22.5, 40,100]\n",
    "\n",
    "#Print('The Global Variable is:', a)\n",
    "# The local variable is b"
   ]
  },
  {
   "cell_type": "code",
   "execution_count": null,
   "id": "cb4031b6",
   "metadata": {},
   "outputs": [],
   "source": [
    "#Difference between python 2 and python 3\n",
    "\n",
    "# 1 Division operator\n",
    "\n",
    "\"\"\"Division Operator - If we are porting our code or executing python 3.x code in python 2.x, \n",
    "                    it can be dangerous if integer division changes go unnoticed (since it doesn’t raise any error). \n",
    "                    It is preferred to use the floating value (like 7.0/5 or 7/5.0) \n",
    "                    to get the expected result when porting our code.\n",
    "            \n",
    "            for P2.0 to get a floating value it has to be divided by a floating number either it would give an integer\n",
    "                     print 7 / 5\"\"\"\n",
    " \n",
    "print -7 / 5    \n",
    "\n",
    "'''\n",
    " \n",
    "Output in Python 2.x\n",
    " \n",
    "1\n",
    " \n",
    "-2\n",
    " \n",
    "Output in Python 3.x :\n",
    " \n",
    "1.4\n",
    " \n",
    "-1.4"
   ]
  },
  {
   "cell_type": "code",
   "execution_count": null,
   "id": "ee0a8046",
   "metadata": {},
   "outputs": [],
   "source": [
    "# 2 Print statement\n",
    "\n",
    "python 2-----\n",
    " print 'hello world!'\n",
    "    \n",
    "python 3----\n",
    " print('hello world!')"
   ]
  },
  {
   "cell_type": "code",
   "execution_count": null,
   "id": "cbb3306f",
   "metadata": {},
   "outputs": [],
   "source": [
    "# 3 Unicode\n",
    "\n",
    "\n",
    "print(type('default string'))\n",
    "print (type(b'default string starting with b:'))\n",
    "\n",
    "python 2------\n",
    "\n",
    "type <str>\n",
    "type<str>\n",
    "it returns string type data for both the print statements\n",
    "\n",
    "python 3-----\n",
    "\n",
    "type<str>\n",
    "type<bytes>"
   ]
  },
  {
   "cell_type": "code",
   "execution_count": null,
   "id": "120dd698",
   "metadata": {},
   "outputs": [],
   "source": [
    "# 4 Xrange and Range\n",
    "\n",
    "xrange() of Python 2.x doesn’t exist in Python 3.x. In Python 2.x,\n",
    "range returns a list i.e. range(3) returns [0, 1, 2] while xrange returns a xrange object\n",
    "i. e., xrange(3) returns iterator object which works similar to Java iterator and generates number when needed."
   ]
  },
  {
   "cell_type": "markdown",
   "id": "84c4f91e",
   "metadata": {},
   "source": [
    "What are mirrored palindrome? Write a program to check if a string is mirrored palindrome or not?"
   ]
  },
  {
   "cell_type": "code",
   "execution_count": null,
   "id": "8ebdb495",
   "metadata": {},
   "outputs": [],
   "source": [
    "The palindrome which are graphically reversible are called mirrored palindrome.\n",
    "Not all letters in mirrored palindromes necessarily have symmetry about a vertical axis\n",
    "(A, H, I, M, O, T, U, V, W, X) since some letters are (more or less) mirror images of others (e.g. L and J).\n"
   ]
  },
  {
   "cell_type": "code",
   "execution_count": null,
   "id": "2d61bea5",
   "metadata": {},
   "outputs": [],
   "source": []
  }
 ],
 "metadata": {
  "kernelspec": {
   "display_name": "Python 3 (ipykernel)",
   "language": "python",
   "name": "python3"
  },
  "language_info": {
   "codemirror_mode": {
    "name": "ipython",
    "version": 3
   },
   "file_extension": ".py",
   "mimetype": "text/x-python",
   "name": "python",
   "nbconvert_exporter": "python",
   "pygments_lexer": "ipython3",
   "version": "3.8.12"
  }
 },
 "nbformat": 4,
 "nbformat_minor": 5
}
